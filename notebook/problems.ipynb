{
 "cells": [
  {
   "cell_type": "markdown",
   "id": "ac622319",
   "metadata": {},
   "source": [
    "# Descriptive statistics problems"
   ]
  },
  {
   "cell_type": "markdown",
   "id": "5e0ab0d5",
   "metadata": {},
   "source": [
    "### Exercise 1\n",
    "\n",
    "We will use NumPy to obtain information to describe statistically.\n",
    "\n",
    "- Generate an array of 100 elements following a normal distribution.\n",
    "- Generate an array of 100 elements following a chi-square distribution with 3 degrees of freedom.\n",
    "- Calculate the main metrics and statistical measures that best describe the two vectors."
   ]
  },
  {
   "cell_type": "code",
   "execution_count": 7,
   "id": "34720ab6",
   "metadata": {},
   "outputs": [
    {
     "name": "stdout",
     "output_type": "stream",
     "text": [
      "Array normal: [-1.56035211 -0.0309776  -0.62092842 -1.46458049  1.41194612 -0.47673214\n",
      " -0.78046921  1.07026774 -1.2822926  -1.3274789   0.12633764  0.86219372\n",
      "  0.69673696 -0.33456518 -0.99752606  1.59890829  3.31407535  0.98777046\n",
      "  0.12386626  0.74278539 -0.39395585  0.14811582 -0.41223445 -0.16071506\n",
      "  0.13953147  0.28546937 -0.28126199  1.71090732 -0.14976664  0.69030672\n",
      "  1.09520951  1.3384087  -1.36898167  0.48642763  0.75352168  0.36346459\n",
      " -0.31471048  1.37328117 -0.62441716  0.375754   -0.20041632  0.74303806\n",
      "  0.85736196 -1.50618929 -1.66635217 -0.2189948  -0.35885843  0.37852769\n",
      "  0.68421537 -1.16785607 -0.79321662 -0.0388354   2.70525499 -1.49138851\n",
      "  0.09597793  0.52468671  0.8156655   0.0515058  -0.16455536  0.27819942\n",
      "  0.0871147   0.03426837  0.74656892 -0.94363758 -0.24577667  1.10812096\n",
      "  0.03900789 -0.21326669 -0.89095461 -0.27064634  0.22224372  0.2518136\n",
      "  0.70792609  0.49398983  1.47100167 -0.58261947  2.06581949  1.08783389\n",
      "  0.80518904 -1.58788484  1.2308855  -2.37345338 -0.03111097 -3.80989038\n",
      " -0.19904969  0.35043074 -0.05255078 -0.63428108 -0.36293111 -2.57091976\n",
      "  0.13751474 -0.71929619  0.72852289  1.62174549  1.52166225 -1.30677343\n",
      " -0.8897683   0.00526774  0.86642487 -0.53553558]\n",
      " Array Chi-square : [ 1.81891539  2.43669194  1.98778709  1.93521196  1.94008985  3.03457714\n",
      "  1.36464737  4.66702721  2.79301562  4.68819589  0.67198791  0.61991366\n",
      "  4.76395167  4.35408628  4.22622     3.08509485  1.02362195  1.35646889\n",
      "  0.67241204  2.27338072  5.85474351 12.73212815  6.7762923   2.00583864\n",
      "  4.46965008  0.56887837  0.8530461   6.26222406  1.32568185  1.10089757\n",
      "  1.69734664  1.59941235  1.10741536  4.07061198  7.39703257  0.90539187\n",
      "  3.12505476  1.33901664  0.95597338  4.81536162  2.35477307  2.18050495\n",
      "  0.41085732  0.76495917  0.30461851  2.68547002  2.37509912  0.50790078\n",
      "  4.3407816   4.27791855  1.91302893  2.16908369  0.84527393  2.19659462\n",
      "  0.80727636  6.72202912  3.77912358  2.45923855  1.63299129  3.55716103\n",
      "  1.57413529  1.66467563  3.41584681  2.68500338  2.20882858  7.29119594\n",
      "  0.90647044  1.84620857  7.67111209  8.47395829  3.50683664  0.38919886\n",
      "  0.63697186  3.77991941  4.24269464  6.3356005   1.07287011  0.25886265\n",
      "  0.12413781  0.54818147  2.00752589  3.33282146  1.25073425  0.40663624\n",
      "  3.26448813  5.70236682  1.84992024  3.32931888  1.78653456  4.13757005\n",
      "  0.20257986  9.03695504  4.85707808  3.81774705  1.49204927  4.16239548\n",
      " 11.83098523  1.02748429  0.66699849  1.33147003]\n"
     ]
    }
   ],
   "source": [
    "# TODO\n",
    "\n",
    "import numpy as np\n",
    "np.random.seed(50)\n",
    "\n",
    "normal= np.random.normal(size=100)\n",
    "chi = np.random.chisquare (df=3, size=100)\n",
    "\n",
    "print(f\"Array normal: {normal}\")\n",
    "print(f\" Array Chi-square : {chi}\")"
   ]
  },
  {
   "cell_type": "code",
   "execution_count": 8,
   "id": "5c252969",
   "metadata": {},
   "outputs": [
    {
     "name": "stdout",
     "output_type": "stream",
     "text": [
      " La media normal es 0.040041158721121156\n",
      " La media chi-square es 2.8908634768361465\n",
      " La mediana normal es 0.04525684718077724\n",
      " La mediana chi-square es 2.174794316296273\n",
      " La moda normal es -1.5603521086836527\n",
      " La moda chi-square es 1.8189153893096257\n",
      " La varianza de normal es 1.1700748324758143\n",
      " La varianza de chi-square es 5.941085746138821\n",
      " La desviación estandar de normal es 1.0816999734102863\n",
      " La desviación estandar de chi es 2.4374342547315653\n"
     ]
    }
   ],
   "source": [
    "import statistics as stats\n",
    "\n",
    "#media\n",
    "print (f' La media normal es {stats.mean(normal)}')\n",
    "print(f' La media chi-square es {stats.mean(chi)}')\n",
    "\n",
    "#Mediana\n",
    "print (f' La mediana normal es {stats.median(normal)}')\n",
    "print(f' La mediana chi-square es {stats.median(chi)}')\n",
    "\n",
    "#Moda\n",
    "print (f' La moda normal es {stats.mode(normal)}')\n",
    "print(f' La moda chi-square es {stats.mode(chi)}')\n",
    "# Varianza\n",
    "print(f' La varianza de normal es {stats.variance(normal)}')\n",
    "print(f' La varianza de chi-square es {stats.variance(chi)}')\n",
    "\n",
    "# Desviación estándar\n",
    "print(f' La desviación estandar de normal es {stats.stdev(normal)}')\n",
    "print(f' La desviación estandar de chi es {stats.stdev(chi)}')\n",
    "      "
   ]
  },
  {
   "cell_type": "markdown",
   "id": "46c70c3d",
   "metadata": {},
   "source": [
    "### Exercise 2\n",
    "\n",
    "Write a Python program to calculate the standard deviation of the following data:\n",
    "\n",
    "```py\n",
    "data = [4, 2, 5, 8, 6]\n",
    "```"
   ]
  },
  {
   "cell_type": "code",
   "execution_count": 3,
   "id": "d590308e",
   "metadata": {},
   "outputs": [
    {
     "name": "stdout",
     "output_type": "stream",
     "text": [
      "2.0\n"
     ]
    }
   ],
   "source": [
    "import numpy as np\n",
    "\n",
    "data = [4,2,5,8,6]\n",
    "\n",
    "desviacion = np.std(data)\n",
    "\n",
    "print(desviacion)"
   ]
  }
 ],
 "metadata": {
  "kernelspec": {
   "display_name": "Python 3",
   "language": "python",
   "name": "python3"
  },
  "language_info": {
   "codemirror_mode": {
    "name": "ipython",
    "version": 3
   },
   "file_extension": ".py",
   "mimetype": "text/x-python",
   "name": "python",
   "nbconvert_exporter": "python",
   "pygments_lexer": "ipython3",
   "version": "3.11.4"
  }
 },
 "nbformat": 4,
 "nbformat_minor": 5
}
